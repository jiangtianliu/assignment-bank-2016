{
 "cells": [
  {
   "cell_type": "markdown",
   "metadata": {
    "collapsed": true
   },
   "source": [
    "# Klein-Gordon Equation"
   ]
  },
  {
   "cell_type": "markdown",
   "metadata": {},
   "source": [
    "## Start with wave equation"
   ]
  },
  {
   "cell_type": "markdown",
   "metadata": {},
   "source": [
    "Since Klein-Gordon equation has one more term than wave equation, and it is also a linear equation, so let us introduce wave equation first.\n",
    "\n",
    "We have learned the linear one-dimensional diffusion equation:\n",
    "\n",
    "\\begin{equation}\\frac{\\partial u}{\\partial t}= \\nu \\frac{\\partial^2 u}{\\partial x^2}\\end{equation}\n",
    "\n",
    "We now know how to deal with the second-order derivative in space. The finite-difference method of Central Difference Scheme was introduced to solve it.\n",
    "\n",
    "Everyone should be familar with the wave equation:\n",
    "\n",
    "\\begin{equation}\\frac{\\partial^2 u}{\\partial t^2}= c^2 \\frac{\\partial^2 u}{\\partial x^2}\\end{equation}\n",
    "\n",
    "Beacuse we know that the time should be always forward, should we use the same method of Cetral Difference Scheme to derivative the second-order in time?"
   ]
  },
  {
   "cell_type": "markdown",
   "metadata": {},
   "source": [
    "## CTCS"
   ]
  },
  {
   "cell_type": "markdown",
   "metadata": {
    "collapsed": true
   },
   "source": [
    "The answer of the question above is yes! Since we are not quite sure about the CTCS scheme now, let us try to get this in another way.\n",
    "\n",
    "We are going to solve the wave equation by the solution of coupled first-order PDEs. Now, let us rewrite wave equation.\n",
    "\n",
    "So, we set:\n",
    "\n",
    "\\begin{equation}\\ r= c \\frac{\\partial u}{\\partial x}\\end{equation}\n",
    "\n",
    "\\begin{equation}\\ s=  \\frac{\\partial u}{\\partial t}\\end{equation}\n",
    "\n",
    "which means wave equation can be rewrited as:\n",
    "\n",
    "\\begin{equation}\\frac{\\partial r}{\\partial t}= c \\frac{\\partial s}{\\partial x}\\end{equation}\n",
    "\n",
    "\\begin{equation}\\frac{\\partial s}{\\partial t}= c \\frac{\\partial r}{\\partial x}\\end{equation}\n",
    "\n",
    "\\begin{equation}\\frac{\\partial u}{\\partial t}= s\\end{equation}\n",
    "\n",
    "Let's set U and F as two vectors as what we have learned in moduel 1. \n",
    "\n",
    "\\begin{align}\n",
    "U & = \\begin{pmatrix} r \\\\ s \\end{pmatrix} & F(U) & = \\begin{pmatrix} 0 & -c \\\\ -c & 0 \\end{pmatrix} U \\nonumber\n",
    "\\end{align}\n",
    "\n",
    "And then we can get:\n",
    "\n",
    "\\begin{equation}\\frac{\\partial U}{\\partial t}= - \\frac{\\partial F(U)}{\\partial x}\\end{equation}\n",
    "\n",
    "The leapfrog scheme was introuduced in the class, since we get a first-order PDE now, we are going to try leapfrog half-step on it.\n",
    "\n",
    "\\begin{equation}r_{i+1/2}^{n+1} = r_{i+1/2}^{n} + \\frac{\\Delta t}{\\Delta x}(s^{n+1/2}_{i+1}- s^{n+1/2}_{i}) + {\\mathcal O}(\\Delta x^2) \\end{equation}\n",
    "\n",
    "\\begin{equation}s_{i}^{n+1/2} = s_{i}^{n-1/2} + \\frac{\\Delta t}{\\Delta x}(r^{n}_{i+1/2}- r^{n}_{i-1/2})  + {\\mathcal O}(\\Delta x^2) \\end{equation}\n",
    "\n",
    "And we know so much about cetral difference, let us write down the central difference of r and s at the half of the mesh points:\n",
    "\n",
    "\\begin{equation}r_{i+1/2}^{n} = c(u^n_{i+1}- u^n_{i})/\\Delta x + {\\mathcal O}(\\Delta x) \\end{equation}\n",
    "\n",
    "\\begin{equation}s_{i}^{n+1/2} = (u^{n+1}_i- u^n_{i})/\\Delta t  + {\\mathcal O}(\\Delta t) \\end{equation}\n",
    "\n",
    "Next, put the these two equation into the leapfrog half-step equation. Right now we can get the representation of wave equation with leapfrog scheme:\n",
    "\n",
    "\\begin{equation}\\frac{u_{i}^{n+1}-2u_{i}^{n}+u_{i}^{n-1}}{\\Delta t^2}=c^2\\frac{u_{i+1}^{n}-2u_{i}^{n}+u_{i-1}^{n}}{\\Delta x^2}\\end{equation}\n",
    "\n",
    "Good! This is the second-order differencing of wave equation, and this is also the CTCS.\n",
    "\n"
   ]
  },
  {
   "cell_type": "markdown",
   "metadata": {},
   "source": [
    "## Question of this scheme?"
   ]
  },
  {
   "cell_type": "markdown",
   "metadata": {},
   "source": [
    "Let us rearrange the equation above, and isolate $u_{i}^{n+1}$, so we can get:\n",
    "\n",
    "\\begin{equation}u_{i}^{n+1}=\\frac{c^2\\Delta t^2}{\\Delta x^2}u_{i+1}^{n} + 2u_{i}^{n}(1-\\frac{c^2\\Delta t^2}{\\Delta x^2})+\\frac{c^2\\Delta t^2}{\\Delta x^2}u_{i-1}^{n}-u_{i}^{n-1}\\end{equation}\n",
    "\n",
    "Here is the stencil for this."
   ]
  },
  {
   "cell_type": "code",
   "execution_count": 4,
   "metadata": {
    "collapsed": false
   },
   "outputs": [
    {
     "data": {
      "image/png": "[encoded data removed]",
      "text/plain": [
       "<IPython.core.display.Image object>"
      ]
     },
     "execution_count": 4,
     "metadata": {},
     "output_type": "execute_result"
    }
   ],
   "source": [
    "from IPython.display import Image\n",
    "Image(filename='stencil for CTCS.png')\n"
   ]
  },
  {
   "cell_type": "markdown",
   "metadata": {},
   "source": [
    "But right now, let us take $u_{i}^{1}$ for example:\n",
    "\n",
    "\\begin{equation}u_{i}^{1}=\\frac{c^2\\Delta t^2}{\\Delta x^2}u_{i+1}^{0} + 2u_{i}^{0}(1-\\frac{c^2\\Delta t^2}{\\Delta x^2})+\\frac{c^2\\Delta t^2}{\\Delta x^2}u_{i-1}^{0}-u_{i}^{-1}\\end{equation}\n",
    "\n",
    "what we found here? If we have the intial condition to get $u_{i}^{0}$, how to deal with $u_{i}^{-1}$? It just like \"Ghost point\" which we have learned in the class.\n",
    "\n",
    "Since we need to have two intial conditions to solve second-order derivative in time, the first intial condition is $u(x, 0) = a(x)$ and the second one is ${\\partial u(x, 0)}/{\\partial t} = b(x)$.\n",
    "\n"
   ]
  },
  {
   "cell_type": "markdown",
   "metadata": {},
   "source": [
    "What we can use here is the second intial conditon. We know that:\n",
    "\n",
    "\\begin{equation}\\frac{\\partial u(x_{i}, 0)}{\\partial t}= b(x) = \\frac{\\partial u_{i}^{1}-u_{i}^{-1}}{2\\Delta t} + {\\mathcal O}(\\Delta t^2)\\end{equation}\n",
    "\n",
    "After isolating the $u_{i}^{-1}$, it should be:\n",
    "\n",
    "\\begin{equation}u_{i}^{-1} = u_{i}^{1} - 2\\Delta tb(x) \\end{equation}\n",
    "\n",
    "Put this into the equation of $u_{i}^{1}$, what we can get is:\n",
    "\n",
    "\\begin{equation}u_{i}^{1}=0.5(\\frac{c^2\\Delta t^2}{\\Delta x^2}u_{i+1}^{0} + 2a(x)(1-\\frac{c^2\\Delta t^2}{\\Delta x^2})+\\frac{c^2\\Delta t^2}{\\Delta x^2}u_{i-1}^{0}+2\\Delta t b(x))\\end{equation}\n",
    "\n",
    "Now, we are good to code!"
   ]
  },
  {
   "cell_type": "code",
   "execution_count": 5,
   "metadata": {
    "collapsed": true
   },
   "outputs": [],
   "source": [
    "import numpy                       \n",
    "from matplotlib import pyplot    \n",
    "%matplotlib inline\n",
    "from matplotlib import rcParams\n",
    "rcParams['font.family'] = 'serif'\n",
    "rcParams['font.size'] = 16"
   ]
  },
  {
   "cell_type": "code",
   "execution_count": 11,
   "metadata": {
    "collapsed": true
   },
   "outputs": [],
   "source": [
    "#defining basic parameters\n",
    "\n",
    "l  =  10.\n",
    "nx =  101\n",
    "dx =  l/(nx-1)\n",
    "x  =  numpy.linspace(-10., 10., nx)\n",
    "T  =  20\n",
    "dt =  0.1\n",
    "nt =  int(T/dt)\n",
    "c  =  1.\n",
    "alpha = dt/dx"
   ]
  },
  {
   "cell_type": "markdown",
   "metadata": {},
   "source": [
    "## Set "
   ]
  }
 ],
 "metadata": {
  "anaconda-cloud": {},
  "kernelspec": {
   "display_name": "Python [default]",
   "language": "python",
   "name": "python3"
  },
  "language_info": {
   "codemirror_mode": {
    "name": "ipython",
    "version": 3
   },
   "file_extension": ".py",
   "mimetype": "text/x-python",
   "name": "python",
   "nbconvert_exporter": "python",
   "pygments_lexer": "ipython3",
   "version": "3.5.2"
  }
 },
 "nbformat": 4,
 "nbformat_minor": 1
}
